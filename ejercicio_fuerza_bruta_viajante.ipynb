{
 "cells": [
  {
   "cell_type": "markdown",
   "metadata": {},
   "source": [
    "### Inteligencia Artificial. Tema 2: Metaheurísticas para optimización\n",
    "\n",
    "### Problema del viajante - Resolución por fuerza bruta\n",
    "\n",
    "José Luis Ruiz Reina - 20 de septiembre 2021"
   ]
  },
  {
   "cell_type": "markdown",
   "metadata": {},
   "source": [
    "El objetivo de este ejercicio preliminar es constatar la dificultad de resolver el problema del viajante por fuerza bruta cuando aumenta el número de ciudades."
   ]
  },
  {
   "cell_type": "code",
   "execution_count": 4,
   "metadata": {},
   "outputs": [],
   "source": [
    "import random, time, math\n",
    "from itertools import permutations"
   ]
  },
  {
   "cell_type": "markdown",
   "metadata": {},
   "source": [
    "Se pide definir una clase Viajante_n, que sirva para definir un problema del viajante generado aleatoriamente con n ciudades. El constructor de la clase recibe un valor $n$ que indicará el número de ciudades y un parámetro $escala$. Las coordenadas $x$ e $y$ de cada ciudad se tomaran aleatoriamente en el rango $[-escala,+escala]$.\n",
    "\n",
    "En concreto, un objeto de esta clase debe tener:\n",
    "\n",
    "* Un atributo `ciudades` con la lista de las ciudades (los números de $1$ a $n$).\n",
    "\n",
    "* Un atributo `coordenadas` que contiene un diccionario cuyas claves son las ciudades (números de $1$ a $n$) y el valor asociado a cada clave es un par $(x,y)$ de coordenadas generado aleatoriamente. \n",
    "\n",
    "* Un método `distancia_circuito` que recibe un lista de ciudades representando un circuito (es decir, un viaje en el que desde cada ciudad se va a la siguiente en la lista, y desde la última a la primera), y devuelve la distancia total recorrida en ese circuito.  \n",
    "\n"
   ]
  },
  {
   "cell_type": "code",
   "execution_count": 5,
   "metadata": {},
   "outputs": [],
   "source": [
    "# Completa el siguiente código\n",
    "\n",
    "class Viajante_n():\n",
    "    \n",
    "    def __init__(self,n,escala):\n",
    "        self.ciudades = list(range(1,n+1))\n",
    "        self.escala = escala\n",
    "        self.coordenadas = {ciudad:(random.uniform(-escala,escala),random.uniform(-escala,escala)) for ciudad in self.ciudades}\n",
    "                \n",
    "    def distancia_circuito(self,lc): # lc lista de ciudades (la primera despues de la última)\n",
    "        \n",
    "        def distancia(c1,c2):\n",
    "            cd1,cd2=self.coordenadas[c1],self.coordenadas[c2]\n",
    "            return math.sqrt((cd1[0]-cd2[0])**2 + (cd1[1]-cd2[1])**2)\n",
    "        \n",
    "        return sum(distancia(u,v) for u,v in zip(lc,lc[1:]))+distancia(lc[-1],lc[0])\n"
   ]
  },
  {
   "cell_type": "code",
   "execution_count": 6,
   "metadata": {},
   "outputs": [
    {
     "name": "stdout",
     "output_type": "stream",
     "text": [
      "Ciudades pv5: [1, 2, 3, 4, 5]\n",
      "Coordenadas pv5: {1: (0.3231195805040552, 1.8435914067969907), 2: (1.5213172364644878, 1.094135775808379), 3: (1.773646244435005, -1.3388631489071106), 4: (1.9410899272710473, 2.1217927463190467), 5: (-0.8913709189297787, 1.7497980606330916)}\n",
      "Distancia recorrida circuito [3, 1, 4, 5, 2]: 12.942171706190063\n",
      "------------------------------------------\n",
      "Ciudades pv7: [1, 2, 3, 4, 5, 6, 7]\n",
      "Coordenadas pv7: {1: (0.021301577164048346, -5.584361749456937), 2: (1.0295422212255643, -4.138952714837669), 3: (5.609605667928491, -2.1989383779259235), 4: (0.7286426304586948, 5.434761119750263), 5: (0.6965509163230887, -3.1083150560165023), 6: (-1.0294341048861408, -3.813557794287604), 7: (1.1214385783889202, -0.45562500052851007)}\n",
      "Distancia recorrida circuito [6, 1, 7, 2, 4, 3, 5]: 36.48915597056244\n"
     ]
    }
   ],
   "source": [
    "# Algunos ejemplos (tener en cuenta que hay una componente aleatoria y \n",
    "#  no tiene por qué salir siempre lo mismo): \n",
    "\n",
    "\n",
    "pv5=Viajante_n(5,3)\n",
    "print(\"Ciudades pv5: {}\".format(pv5.ciudades))\n",
    "print(\"Coordenadas pv5: {}\".format(pv5.coordenadas))      \n",
    "circuito5=[3,1,4,5,2]\n",
    "print(\"Distancia recorrida circuito {}: {}\".format(circuito5, pv5.distancia_circuito(circuito5)))\n",
    "\n",
    "# Resultado:\n",
    "\n",
    "\n",
    "# Ciudades pv5: [1, 2, 3, 4, 5]\n",
    "# Coordenadas pv5: {1: (0.9933341119772914, -1.3142527442924534), 2: (-2.534978816160301, -0.4348823719914323), 3: (2.9237711389309746, 2.5503047663212124), 4: (-2.3038610315148067, 0.2863670972692458), 5: (-2.6807503499258694, 2.66066145309415)}\n",
    "# Distancia recorrida circuito [3, 1, 4, 5, 2]: 19.70972943031935\n",
    "\n",
    "\n",
    "\n",
    "print(\"------------------------------------------\")\n",
    "\n",
    "\n",
    "pv7=Viajante_n(7,6)\n",
    "print(\"Ciudades pv7: {}\".format(pv7.ciudades))\n",
    "print(\"Coordenadas pv7: {}\".format(pv7.coordenadas))      \n",
    "circuito7=[6,1,7,2,4,3,5]\n",
    "print(\"Distancia recorrida circuito {}: {}\".format(circuito7, pv7.distancia_circuito(circuito7)))\n",
    "\n",
    "\n",
    "\n",
    "# Resultado:\n",
    "\n",
    "# Ciudades pv7: [1, 2, 3, 4, 5, 6, 7]\n",
    "# Coordenadas pv7: {1: (-4.101506952514783, 2.8132013889243552), 2: (5.850710983895281, 5.122936570240684), 3: (-0.5878950106358758, -1.5103890561568427), 4: (2.906093090298592, 5.110176944095176), 5: (5.58644208048911, 1.2848246079736683), 6: (1.1422345987613527, -5.370749751267727), 7: (4.769985114498658, 5.249400227724447)}\n",
    "# Distancia recorrida circuito [6, 1, 7, 2, 4, 3, 5]: 45.218967297846184\n"
   ]
  },
  {
   "cell_type": "markdown",
   "metadata": {},
   "source": [
    "Piensa ahora en un método \"sencillo\" para resolver el problema del viajante y trata de implementarlo mediante una función `optimización_viajante(pv)`. La función debe devolver el mejor circuito y la distancia del mismo. \n",
    "\n",
    "Aplícalo para resolver distintas instancias de problemas del viajante (generadas como objetos de la clase anterior) y ve aumentando el número de ciudades para ver cómo se comporta tu método. Saca tus propias conclusiones.  \n",
    "\n",
    "Nota: para definir la función puede ser útil usar la función `permutations` del módulo `itertools` que se ha importado más arriba. "
   ]
  },
  {
   "cell_type": "code",
   "execution_count": 7,
   "metadata": {},
   "outputs": [],
   "source": [
    "# Algunos ejemplos:\n",
    "\n",
    "# optimización_viajante(pv5):\n",
    "\n",
    "# Resultado: ((1, 2, 4, 5, 3), 16.723133150725506)\n",
    "\n",
    "\n",
    "# optimización_viajante(pv7):\n",
    "\n",
    "# Resultado:  ((1, 3, 6, 5, 2, 7, 4), 31.983405737842844)\n"
   ]
  },
  {
   "cell_type": "code",
   "execution_count": 14,
   "metadata": {},
   "outputs": [],
   "source": [
    "def optimizacion_viajante(pv):\n",
    "    ciudades = pv.ciudades\n",
    "    num_ciudades = len(ciudades)\n",
    "    \n",
    "    # Generar todas las permutaciones de las ciudades\n",
    "    mejores_circuito = None\n",
    "    mejor_distancia = float('inf')\n",
    "    \n",
    "    for circuito_permutado in permutations(range(num_ciudades)):\n",
    "        distancia_actual = calcular_distancia_total(circuito_permutado, ciudades)\n",
    "        \n",
    "        if distancia_actual < mejor_distancia:\n",
    "            mejores_circuito = circuito_permutado\n",
    "            mejor_distancia = distancia_actual\n",
    "    \n",
    "    return mejores_circuito, mejor_distancia\n"
   ]
  },
  {
   "cell_type": "code",
   "execution_count": 15,
   "metadata": {},
   "outputs": [
    {
     "ename": "NameError",
     "evalue": "name 'calcular_distancia_total' is not defined",
     "output_type": "error",
     "traceback": [
      "\u001b[1;31m---------------------------------------------------------------------------\u001b[0m",
      "\u001b[1;31mNameError\u001b[0m                                 Traceback (most recent call last)",
      "Cell \u001b[1;32mIn[15], line 1\u001b[0m\n\u001b[1;32m----> 1\u001b[0m optimizacion_viajante(pv5)\n",
      "Cell \u001b[1;32mIn[14], line 10\u001b[0m, in \u001b[0;36moptimizacion_viajante\u001b[1;34m(pv)\u001b[0m\n\u001b[0;32m      7\u001b[0m mejor_distancia \u001b[38;5;241m=\u001b[39m \u001b[38;5;28mfloat\u001b[39m(\u001b[38;5;124m'\u001b[39m\u001b[38;5;124minf\u001b[39m\u001b[38;5;124m'\u001b[39m)\n\u001b[0;32m      9\u001b[0m \u001b[38;5;28;01mfor\u001b[39;00m circuito_permutado \u001b[38;5;129;01min\u001b[39;00m permutations(\u001b[38;5;28mrange\u001b[39m(num_ciudades)):\n\u001b[1;32m---> 10\u001b[0m     distancia_actual \u001b[38;5;241m=\u001b[39m calcular_distancia_total(circuito_permutado, ciudades)\n\u001b[0;32m     12\u001b[0m     \u001b[38;5;28;01mif\u001b[39;00m distancia_actual \u001b[38;5;241m<\u001b[39m mejor_distancia:\n\u001b[0;32m     13\u001b[0m         mejores_circuito \u001b[38;5;241m=\u001b[39m circuito_permutado\n",
      "\u001b[1;31mNameError\u001b[0m: name 'calcular_distancia_total' is not defined"
     ]
    }
   ],
   "source": [
    "optimizacion_viajante(pv5)"
   ]
  },
  {
   "cell_type": "code",
   "execution_count": null,
   "metadata": {},
   "outputs": [],
   "source": []
  }
 ],
 "metadata": {
  "kernelspec": {
   "display_name": "Python 3 (ipykernel)",
   "language": "python",
   "name": "python3"
  },
  "language_info": {
   "codemirror_mode": {
    "name": "ipython",
    "version": 3
   },
   "file_extension": ".py",
   "mimetype": "text/x-python",
   "name": "python",
   "nbconvert_exporter": "python",
   "pygments_lexer": "ipython3",
   "version": "3.11.4"
  }
 },
 "nbformat": 4,
 "nbformat_minor": 2
}
